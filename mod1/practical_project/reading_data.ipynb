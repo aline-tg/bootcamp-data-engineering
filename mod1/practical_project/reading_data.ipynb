{
 "metadata": {
  "language_info": {
   "codemirror_mode": {
    "name": "ipython",
    "version": 3
   },
   "file_extension": ".py",
   "mimetype": "text/x-python",
   "name": "python",
   "nbconvert_exporter": "python",
   "pygments_lexer": "ipython3",
   "version": "3.7.4-final"
  },
  "orig_nbformat": 2,
  "kernelspec": {
   "name": "python3",
   "display_name": "Python 3"
  }
 },
 "nbformat": 4,
 "nbformat_minor": 2,
 "cells": [
  {
   "cell_type": "code",
   "execution_count": 1,
   "metadata": {},
   "outputs": [],
   "source": [
    "#import libraries\n",
    "\n",
    "import pandas as pd\n",
    "import numpy as np\n",
    "import os\n"
   ]
  },
  {
   "cell_type": "code",
   "execution_count": 2,
   "metadata": {},
   "outputs": [],
   "source": [
    " cols = [\"NU_INSCRICAO\", \n",
    "            \"NU_NOTA_CN\",\n",
    "            \"NU_NOTA_CH\",\n",
    "            \"NU_NOTA_LC\",\n",
    "            \"NU_NOTA_MT\",\n",
    "            \"TP_SEXO\",\n",
    "            \"NU_IDADE\",\n",
    "            \"SG_UF_RESIDENCIA\",\n",
    "            \"NO_MUNICIPIO_RESIDENCIA\",\n",
    "            \"TP_LINGUA\",\n",
    "            \"IN_SURDEZ\",\n",
    "            \"IN_DISLEXIA\",\n",
    "            \"Q001\",\n",
    "            \"Q002\",\n",
    "            \"Q005\",\n",
    "            \"Q006\",\n",
    "            \"Q016\",\n",
    "            \"Q021\"]"
   ]
  },
  {
   "cell_type": "code",
   "execution_count": 3,
   "metadata": {},
   "outputs": [],
   "source": [
    "#reading data\n",
    "enem_data = pd.read_csv(\n",
    "    \"C:/Users/Aline/Downloads/microdados_enem_2019/DADOS/MICRODADOS_ENEM_2019.csv\",\n",
    "    sep = \";\", decimal = \",\", encoding = 'latin-1', usecols = cols\n",
    ")"
   ]
  },
  {
   "cell_type": "code",
   "execution_count": 4,
   "metadata": {},
   "outputs": [],
   "source": [
    "final_data = enem_data.loc[\n",
    "        (enem_data.SG_UF_RESIDENCIA == 'MG')\n",
    "    ]"
   ]
  },
  {
   "cell_type": "code",
   "execution_count": 5,
   "metadata": {},
   "outputs": [],
   "source": [
    "final_data.to_csv('C:/Users/Aline/Downloads/microdados_enem_2019/DADOS/mg_data.csv', index=False, encoding=\"latin-1\")"
   ]
  },
  {
   "cell_type": "code",
   "execution_count": 1,
   "metadata": {},
   "outputs": [],
   "source": [
    "\n",
    "import pandas as pd\n",
    "import numpy as np\n",
    "import os\n",
    "\n",
    "#reading data\n",
    "enem_data = pd.read_csv(\n",
    "    'C:/Users/Aline/Downloads/microdados_enem_2019/DADOS/mg_data.csv',\n",
    "    sep = \",\", decimal = \".\", encoding = 'latin-1')"
   ]
  },
  {
   "cell_type": "code",
   "execution_count": 2,
   "metadata": {},
   "outputs": [
    {
     "output_type": "execute_result",
     "data": {
      "text/plain": [
       "        NU_INSCRICAO NO_MUNICIPIO_RESIDENCIA SG_UF_RESIDENCIA  NU_IDADE  \\\n",
       "0       190001005671              Uberlândia               MG        21   \n",
       "1       190001009861                   Canaã               MG        20   \n",
       "2       190001021622                   Araxá               MG        24   \n",
       "3       190001026636          Belo Horizonte               MG        33   \n",
       "4       190001026742       São João da Ponte               MG        23   \n",
       "...              ...                     ...              ...       ...   \n",
       "538891  190006120182                 Uberaba               MG        59   \n",
       "538892  190006120183     São João do Paraíso               MG        33   \n",
       "538893  190006120184             Capinópolis               MG        18   \n",
       "538894  190006120185      Ribeirão das Neves               MG        22   \n",
       "538895  190006120186                   Betim               MG        37   \n",
       "\n",
       "       TP_SEXO  IN_SURDEZ  IN_DISLEXIA  NU_NOTA_CN  NU_NOTA_CH  NU_NOTA_LC  \\\n",
       "0            M          0            0       512.6       564.6       533.4   \n",
       "1            M          0            0         NaN         NaN         NaN   \n",
       "2            M          0            0         NaN         NaN         NaN   \n",
       "3            M          0            0         NaN         NaN         NaN   \n",
       "4            M          0            0       621.0       654.4       595.8   \n",
       "...        ...        ...          ...         ...         ...         ...   \n",
       "538891       F          0            0       453.6       446.2       446.9   \n",
       "538892       F          0            0       527.6       534.4       543.3   \n",
       "538893       F          0            0       473.7       380.7       499.6   \n",
       "538894       F          0            0       464.4       415.8       510.5   \n",
       "538895       F          0            0         NaN         NaN         NaN   \n",
       "\n",
       "        NU_NOTA_MT  TP_LINGUA Q001 Q002  Q005 Q006 Q016 Q021  \n",
       "0            626.4          0    E    F     3    I    B    A  \n",
       "1              NaN          1    B    B     5    D    A    A  \n",
       "2              NaN          1    C    C     3    F    A    A  \n",
       "3              NaN          1    G    D     3    P    B    A  \n",
       "4            726.8          0    B    D     3    D    A    A  \n",
       "...            ...        ...  ...  ...   ...  ...  ...  ...  \n",
       "538891       467.9          1    B    C     3    C    A    A  \n",
       "538892       537.9          1    B    A     1    C    B    A  \n",
       "538893       369.3          0    F    E     3    I    B    B  \n",
       "538894       473.0          1    B    E     2    E    B    A  \n",
       "538895         NaN          1    B    A     3    C    A    A  \n",
       "\n",
       "[538896 rows x 18 columns]"
      ],
      "text/html": "<div>\n<style scoped>\n    .dataframe tbody tr th:only-of-type {\n        vertical-align: middle;\n    }\n\n    .dataframe tbody tr th {\n        vertical-align: top;\n    }\n\n    .dataframe thead th {\n        text-align: right;\n    }\n</style>\n<table border=\"1\" class=\"dataframe\">\n  <thead>\n    <tr style=\"text-align: right;\">\n      <th></th>\n      <th>NU_INSCRICAO</th>\n      <th>NO_MUNICIPIO_RESIDENCIA</th>\n      <th>SG_UF_RESIDENCIA</th>\n      <th>NU_IDADE</th>\n      <th>TP_SEXO</th>\n      <th>IN_SURDEZ</th>\n      <th>IN_DISLEXIA</th>\n      <th>NU_NOTA_CN</th>\n      <th>NU_NOTA_CH</th>\n      <th>NU_NOTA_LC</th>\n      <th>NU_NOTA_MT</th>\n      <th>TP_LINGUA</th>\n      <th>Q001</th>\n      <th>Q002</th>\n      <th>Q005</th>\n      <th>Q006</th>\n      <th>Q016</th>\n      <th>Q021</th>\n    </tr>\n  </thead>\n  <tbody>\n    <tr>\n      <td>0</td>\n      <td>190001005671</td>\n      <td>Uberlândia</td>\n      <td>MG</td>\n      <td>21</td>\n      <td>M</td>\n      <td>0</td>\n      <td>0</td>\n      <td>512.6</td>\n      <td>564.6</td>\n      <td>533.4</td>\n      <td>626.4</td>\n      <td>0</td>\n      <td>E</td>\n      <td>F</td>\n      <td>3</td>\n      <td>I</td>\n      <td>B</td>\n      <td>A</td>\n    </tr>\n    <tr>\n      <td>1</td>\n      <td>190001009861</td>\n      <td>Canaã</td>\n      <td>MG</td>\n      <td>20</td>\n      <td>M</td>\n      <td>0</td>\n      <td>0</td>\n      <td>NaN</td>\n      <td>NaN</td>\n      <td>NaN</td>\n      <td>NaN</td>\n      <td>1</td>\n      <td>B</td>\n      <td>B</td>\n      <td>5</td>\n      <td>D</td>\n      <td>A</td>\n      <td>A</td>\n    </tr>\n    <tr>\n      <td>2</td>\n      <td>190001021622</td>\n      <td>Araxá</td>\n      <td>MG</td>\n      <td>24</td>\n      <td>M</td>\n      <td>0</td>\n      <td>0</td>\n      <td>NaN</td>\n      <td>NaN</td>\n      <td>NaN</td>\n      <td>NaN</td>\n      <td>1</td>\n      <td>C</td>\n      <td>C</td>\n      <td>3</td>\n      <td>F</td>\n      <td>A</td>\n      <td>A</td>\n    </tr>\n    <tr>\n      <td>3</td>\n      <td>190001026636</td>\n      <td>Belo Horizonte</td>\n      <td>MG</td>\n      <td>33</td>\n      <td>M</td>\n      <td>0</td>\n      <td>0</td>\n      <td>NaN</td>\n      <td>NaN</td>\n      <td>NaN</td>\n      <td>NaN</td>\n      <td>1</td>\n      <td>G</td>\n      <td>D</td>\n      <td>3</td>\n      <td>P</td>\n      <td>B</td>\n      <td>A</td>\n    </tr>\n    <tr>\n      <td>4</td>\n      <td>190001026742</td>\n      <td>São João da Ponte</td>\n      <td>MG</td>\n      <td>23</td>\n      <td>M</td>\n      <td>0</td>\n      <td>0</td>\n      <td>621.0</td>\n      <td>654.4</td>\n      <td>595.8</td>\n      <td>726.8</td>\n      <td>0</td>\n      <td>B</td>\n      <td>D</td>\n      <td>3</td>\n      <td>D</td>\n      <td>A</td>\n      <td>A</td>\n    </tr>\n    <tr>\n      <td>...</td>\n      <td>...</td>\n      <td>...</td>\n      <td>...</td>\n      <td>...</td>\n      <td>...</td>\n      <td>...</td>\n      <td>...</td>\n      <td>...</td>\n      <td>...</td>\n      <td>...</td>\n      <td>...</td>\n      <td>...</td>\n      <td>...</td>\n      <td>...</td>\n      <td>...</td>\n      <td>...</td>\n      <td>...</td>\n      <td>...</td>\n    </tr>\n    <tr>\n      <td>538891</td>\n      <td>190006120182</td>\n      <td>Uberaba</td>\n      <td>MG</td>\n      <td>59</td>\n      <td>F</td>\n      <td>0</td>\n      <td>0</td>\n      <td>453.6</td>\n      <td>446.2</td>\n      <td>446.9</td>\n      <td>467.9</td>\n      <td>1</td>\n      <td>B</td>\n      <td>C</td>\n      <td>3</td>\n      <td>C</td>\n      <td>A</td>\n      <td>A</td>\n    </tr>\n    <tr>\n      <td>538892</td>\n      <td>190006120183</td>\n      <td>São João do Paraíso</td>\n      <td>MG</td>\n      <td>33</td>\n      <td>F</td>\n      <td>0</td>\n      <td>0</td>\n      <td>527.6</td>\n      <td>534.4</td>\n      <td>543.3</td>\n      <td>537.9</td>\n      <td>1</td>\n      <td>B</td>\n      <td>A</td>\n      <td>1</td>\n      <td>C</td>\n      <td>B</td>\n      <td>A</td>\n    </tr>\n    <tr>\n      <td>538893</td>\n      <td>190006120184</td>\n      <td>Capinópolis</td>\n      <td>MG</td>\n      <td>18</td>\n      <td>F</td>\n      <td>0</td>\n      <td>0</td>\n      <td>473.7</td>\n      <td>380.7</td>\n      <td>499.6</td>\n      <td>369.3</td>\n      <td>0</td>\n      <td>F</td>\n      <td>E</td>\n      <td>3</td>\n      <td>I</td>\n      <td>B</td>\n      <td>B</td>\n    </tr>\n    <tr>\n      <td>538894</td>\n      <td>190006120185</td>\n      <td>Ribeirão das Neves</td>\n      <td>MG</td>\n      <td>22</td>\n      <td>F</td>\n      <td>0</td>\n      <td>0</td>\n      <td>464.4</td>\n      <td>415.8</td>\n      <td>510.5</td>\n      <td>473.0</td>\n      <td>1</td>\n      <td>B</td>\n      <td>E</td>\n      <td>2</td>\n      <td>E</td>\n      <td>B</td>\n      <td>A</td>\n    </tr>\n    <tr>\n      <td>538895</td>\n      <td>190006120186</td>\n      <td>Betim</td>\n      <td>MG</td>\n      <td>37</td>\n      <td>F</td>\n      <td>0</td>\n      <td>0</td>\n      <td>NaN</td>\n      <td>NaN</td>\n      <td>NaN</td>\n      <td>NaN</td>\n      <td>1</td>\n      <td>B</td>\n      <td>A</td>\n      <td>3</td>\n      <td>C</td>\n      <td>A</td>\n      <td>A</td>\n    </tr>\n  </tbody>\n</table>\n<p>538896 rows × 18 columns</p>\n</div>"
     },
     "metadata": {},
     "execution_count": 2
    }
   ],
   "source": [
    "enem_data"
   ]
  },
  {
   "cell_type": "code",
   "execution_count": 3,
   "metadata": {},
   "outputs": [
    {
     "output_type": "execute_result",
     "data": {
      "text/plain": [
       "Belo Horizonte      79384\n",
       "Uberlândia          21368\n",
       "Contagem            18156\n",
       "Montes Claros       17165\n",
       "Juiz de Fora        15870\n",
       "                    ...  \n",
       "Albertina              29\n",
       "Doresópolis            28\n",
       "Consolação             28\n",
       "Serra da Saudade       17\n",
       "Água Comprida          13\n",
       "Name: NO_MUNICIPIO_RESIDENCIA, Length: 853, dtype: int64"
      ]
     },
     "metadata": {},
     "execution_count": 3
    }
   ],
   "source": [
    "enem_data.NO_MUNICIPIO_RESIDENCIA.value_counts()"
   ]
  },
  {
   "cell_type": "code",
   "execution_count": 5,
   "metadata": {},
   "outputs": [
    {
     "output_type": "execute_result",
     "data": {
      "text/plain": [
       "MG    538896\n",
       "Name: SG_UF_RESIDENCIA, dtype: int64"
      ]
     },
     "metadata": {},
     "execution_count": 5
    }
   ],
   "source": [
    "enem_data.SG_UF_RESIDENCIA.value_counts()"
   ]
  },
  {
   "cell_type": "code",
   "execution_count": 6,
   "metadata": {},
   "outputs": [
    {
     "output_type": "execute_result",
     "data": {
      "text/plain": [
       "0    309739\n",
       "1    229157\n",
       "Name: TP_LINGUA, dtype: int64"
      ]
     },
     "metadata": {},
     "execution_count": 6
    }
   ],
   "source": [
    "enem_data.TP_LINGUA.value_counts()"
   ]
  },
  {
   "cell_type": "code",
   "execution_count": 7,
   "metadata": {},
   "outputs": [
    {
     "output_type": "execute_result",
     "data": {
      "text/plain": [
       "0    538766\n",
       "1       130\n",
       "Name: IN_SURDEZ, dtype: int64"
      ]
     },
     "metadata": {},
     "execution_count": 7
    }
   ],
   "source": [
    "enem_data.IN_SURDEZ.value_counts()"
   ]
  },
  {
   "cell_type": "code",
   "execution_count": 8,
   "metadata": {},
   "outputs": [
    {
     "output_type": "execute_result",
     "data": {
      "text/plain": [
       "0    538671\n",
       "1       225\n",
       "Name: IN_DISLEXIA, dtype: int64"
      ]
     },
     "metadata": {},
     "execution_count": 8
    }
   ],
   "source": [
    "enem_data.IN_DISLEXIA.value_counts()"
   ]
  },
  {
   "cell_type": "code",
   "execution_count": 10,
   "metadata": {},
   "outputs": [
    {
     "output_type": "execute_result",
     "data": {
      "text/plain": [
       "0    309739\n",
       "1    229157\n",
       "Name: TP_LINGUA, dtype: int64"
      ]
     },
     "metadata": {},
     "execution_count": 10
    }
   ],
   "source": [
    "enem_data.TP_LINGUA.value_counts()"
   ]
  },
  {
   "cell_type": "code",
   "execution_count": 11,
   "metadata": {},
   "outputs": [
    {
     "output_type": "execute_result",
     "data": {
      "text/plain": [
       "E    129298\n",
       "B    126959\n",
       "C     93208\n",
       "D     64960\n",
       "H     40685\n",
       "F     39784\n",
       "G     24788\n",
       "A     19214\n",
       "Name: Q001, dtype: int64"
      ]
     },
     "metadata": {},
     "execution_count": 11
    }
   ],
   "source": [
    "enem_data.Q001.value_counts()"
   ]
  },
  {
   "cell_type": "code",
   "execution_count": 12,
   "metadata": {},
   "outputs": [
    {
     "output_type": "execute_result",
     "data": {
      "text/plain": [
       "E    160134\n",
       "B     94434\n",
       "C     84818\n",
       "D     68104\n",
       "F     56442\n",
       "G     48582\n",
       "A     14181\n",
       "H     12201\n",
       "Name: Q002, dtype: int64"
      ]
     },
     "metadata": {},
     "execution_count": 12
    }
   ],
   "source": [
    "enem_data.Q002.value_counts()"
   ]
  },
  {
   "cell_type": "code",
   "execution_count": 21,
   "metadata": {},
   "outputs": [
    {
     "output_type": "execute_result",
     "data": {
      "text/plain": [
       "4     183790\n",
       "3     143724\n",
       "5      83280\n",
       "2      69479\n",
       "6      26309\n",
       "1      16201\n",
       "7       9598\n",
       "8       3703\n",
       "9       1367\n",
       "10       745\n",
       "11       264\n",
       "12       175\n",
       "13        86\n",
       "14        47\n",
       "15        41\n",
       "20        37\n",
       "16        20\n",
       "19        14\n",
       "17         8\n",
       "18         8\n",
       "Name: Q005, dtype: int64"
      ]
     },
     "metadata": {},
     "execution_count": 21
    }
   ],
   "source": [
    "enem_data.Q005.value_counts()"
   ]
  },
  {
   "cell_type": "code",
   "execution_count": 22,
   "metadata": {},
   "outputs": [
    {
     "output_type": "execute_result",
     "data": {
      "text/plain": [
       "C    142297\n",
       "B     97839\n",
       "D     63327\n",
       "E     61486\n",
       "G     39732\n",
       "F     29265\n",
       "H     24125\n",
       "I     17697\n",
       "A     12755\n",
       "J      9561\n",
       "N      7192\n",
       "K      6997\n",
       "O      5798\n",
       "Q      5698\n",
       "L      5295\n",
       "M      5157\n",
       "P      4675\n",
       "Name: Q006, dtype: int64"
      ]
     },
     "metadata": {},
     "execution_count": 22
    }
   ],
   "source": [
    "enem_data.Q006.value_counts()"
   ]
  },
  {
   "cell_type": "code",
   "execution_count": 24,
   "metadata": {},
   "outputs": [
    {
     "output_type": "execute_result",
     "data": {
      "text/plain": [
       "B    296425\n",
       "A    239717\n",
       "C      2604\n",
       "D       107\n",
       "E        43\n",
       "Name: Q016, dtype: int64"
      ]
     },
     "metadata": {},
     "execution_count": 24
    }
   ],
   "source": [
    "enem_data.Q016.value_counts()"
   ]
  },
  {
   "cell_type": "code",
   "execution_count": 25,
   "metadata": {},
   "outputs": [
    {
     "output_type": "execute_result",
     "data": {
      "text/plain": [
       "A    406532\n",
       "B    132364\n",
       "Name: Q021, dtype: int64"
      ]
     },
     "metadata": {},
     "execution_count": 25
    }
   ],
   "source": [
    "enem_data.Q021.value_counts()"
   ]
  },
  {
   "cell_type": "code",
   "execution_count": 26,
   "metadata": {},
   "outputs": [
    {
     "output_type": "execute_result",
     "data": {
      "text/plain": [
       "F    326374\n",
       "M    212522\n",
       "Name: TP_SEXO, dtype: int64"
      ]
     },
     "metadata": {},
     "execution_count": 26
    }
   ],
   "source": [
    "enem_data.TP_SEXO.value_counts()"
   ]
  },
  {
   "cell_type": "code",
   "execution_count": 8,
   "metadata": {},
   "outputs": [
    {
     "output_type": "execute_result",
     "data": {
      "text/plain": [
       "NU_NOTA_MT    546.796208\n",
       "NU_NOTA_LC    531.215550\n",
       "dtype: float64"
      ]
     },
     "metadata": {},
     "execution_count": 8
    }
   ],
   "source": [
    "enem_data.agg({\n",
    "    \"NU_NOTA_MT\": \"mean\",\n",
    "    \"NU_NOTA_LC\": \"mean\"\n",
    "})"
   ]
  },
  {
   "cell_type": "code",
   "execution_count": 11,
   "metadata": {},
   "outputs": [
    {
     "output_type": "stream",
     "name": "stdout",
     "text": [
      "         NU_NOTA_CH\nTP_SEXO            \nF        515.127098\nM        529.698270\n"
     ]
    }
   ],
   "source": [
    "print(enem_data.groupby('TP_SEXO').agg({\n",
    "    \"NU_NOTA_CH\": \"mean\"\n",
    "}))"
   ]
  },
  {
   "cell_type": "code",
   "execution_count": 13,
   "metadata": {},
   "outputs": [
    {
     "output_type": "execute_result",
     "data": {
      "text/plain": [
       "525.4776724249901"
      ]
     },
     "metadata": {},
     "execution_count": 13
    }
   ],
   "source": [
    "enem_data.loc[\n",
    "    (enem_data.TP_SEXO == \"F\") &\n",
    "    (enem_data.NO_MUNICIPIO_RESIDENCIA == \"Montes Claros\"),\n",
    "    \"NU_NOTA_MT\"\n",
    "].mean()"
   ]
  },
  {
   "cell_type": "code",
   "execution_count": 14,
   "metadata": {},
   "outputs": [
    {
     "output_type": "execute_result",
     "data": {
      "text/plain": [
       "543.2927556818183"
      ]
     },
     "metadata": {},
     "execution_count": 14
    }
   ],
   "source": [
    "enem_data.loc[\n",
    "    (enem_data.Q021 == \"B\") &\n",
    "    (enem_data.NO_MUNICIPIO_RESIDENCIA == \"Sabará\"),\n",
    "    \"NU_NOTA_MT\"\n",
    "].mean()"
   ]
  },
  {
   "cell_type": "code",
   "execution_count": 4,
   "metadata": {},
   "outputs": [
    {
     "output_type": "execute_result",
     "data": {
      "text/plain": [
       "557.2765986394558"
      ]
     },
     "metadata": {},
     "execution_count": 4
    }
   ],
   "source": [
    "enem_data.loc[\n",
    "    (enem_data.Q016 == 'C'),\n",
    "    \"NU_NOTA_CH\"\n",
    "].mean()"
   ]
  },
  {
   "cell_type": "code",
   "execution_count": 5,
   "metadata": {},
   "outputs": [
    {
     "output_type": "execute_result",
     "data": {
      "text/plain": [
       "620.007062070985"
      ]
     },
     "metadata": {},
     "execution_count": 5
    }
   ],
   "source": [
    "enem_data.loc[\n",
    "    (enem_data.Q002 == 'G'),\n",
    "    \"NU_NOTA_MT\"\n",
    "].mean()"
   ]
  },
  {
   "cell_type": "code",
   "execution_count": 11,
   "metadata": {},
   "outputs": [
    {
     "output_type": "execute_result",
     "data": {
      "text/plain": [
       "578.0392265100068"
      ]
     },
     "metadata": {},
     "execution_count": 11
    }
   ],
   "source": [
    "enem_data.loc[\n",
    "    (enem_data.NO_MUNICIPIO_RESIDENCIA.isin([\"Conselheiro Lafaiete\",\"Belo Horizonte\"])),\n",
    "    \"NU_NOTA_MT\"\n",
    "].mean()"
   ]
  },
  {
   "cell_type": "code",
   "execution_count": 22,
   "metadata": {},
   "outputs": [
    {
     "output_type": "execute_result",
     "data": {
      "text/plain": [
       "534.4573388609205"
      ]
     },
     "metadata": {},
     "execution_count": 22
    }
   ],
   "source": [
    "enem_data.loc[\n",
    "         (enem_data.Q005 == 1),\n",
    "        \"NU_NOTA_CH\"\n",
    "        ].mean()"
   ]
  },
  {
   "cell_type": "code",
   "execution_count": 24,
   "metadata": {},
   "outputs": [
    {
     "output_type": "execute_result",
     "data": {
      "text/plain": [
       "586.7231663685159"
      ]
     },
     "metadata": {},
     "execution_count": 24
    }
   ],
   "source": [
    "enem_data.loc[\n",
    "    (enem_data.Q001 == 'G') &\n",
    "    (enem_data.Q006 == 'M'),\n",
    "    \"NU_NOTA_CH\"].mean() "
   ]
  },
  {
   "cell_type": "code",
   "execution_count": 16,
   "metadata": {},
   "outputs": [
    {
     "output_type": "execute_result",
     "data": {
      "text/plain": [
       "510.80950782997775"
      ]
     },
     "metadata": {},
     "execution_count": 16
    }
   ],
   "source": [
    "enem_data.loc[(enem_data.TP_SEXO == 'F') &\n",
    "    (enem_data.NO_MUNICIPIO_RESIDENCIA == 'Lavras') &\n",
    "    (enem_data.TP_LINGUA == 1),\n",
    "    \"NU_NOTA_MT\"].mean()"
   ]
  },
  {
   "cell_type": "code",
   "execution_count": 17,
   "metadata": {},
   "outputs": [
    {
     "output_type": "execute_result",
     "data": {
      "text/plain": [
       "555.0832520325198"
      ]
     },
     "metadata": {},
     "execution_count": 17
    }
   ],
   "source": [
    "enem_data.loc[(enem_data.TP_SEXO == 'M') &\n",
    "    (enem_data.NO_MUNICIPIO_RESIDENCIA == 'Ouro Preto'),\n",
    "    \"NU_NOTA_MT\"].mean()"
   ]
  },
  {
   "cell_type": "code",
   "execution_count": 18,
   "metadata": {},
   "outputs": [
    {
     "output_type": "execute_result",
     "data": {
      "text/plain": [
       "435.38796296296283"
      ]
     },
     "metadata": {},
     "execution_count": 18
    }
   ],
   "source": [
    "enem_data.loc[(enem_data.IN_SURDEZ == 1),\n",
    "    \"NU_NOTA_CH\"].mean()"
   ]
  },
  {
   "cell_type": "code",
   "execution_count": 20,
   "metadata": {},
   "outputs": [
    {
     "output_type": "execute_result",
     "data": {
      "text/plain": [
       "582.1935483870968"
      ]
     },
     "metadata": {},
     "execution_count": 20
    }
   ],
   "source": [
    "enem_data.loc[\n",
    "    (enem_data.NO_MUNICIPIO_RESIDENCIA.isin([\"Belo Horizonte\",\"Sabará\", \"Nova Lima\", \"Betim\"])) &\n",
    "     (enem_data.IN_DISLEXIA == 1) & \n",
    "     (enem_data.TP_SEXO == 'F'),\n",
    "    \"NU_NOTA_MT\"\n",
    "].mean()"
   ]
  },
  {
   "cell_type": "code",
   "execution_count": null,
   "metadata": {},
   "outputs": [],
   "source": []
  }
 ]
}