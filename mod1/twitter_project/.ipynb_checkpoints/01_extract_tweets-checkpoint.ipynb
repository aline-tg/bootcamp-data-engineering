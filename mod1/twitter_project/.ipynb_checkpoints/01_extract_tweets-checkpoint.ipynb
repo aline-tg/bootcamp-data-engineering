{
 "cells": [
  {
   "cell_type": "markdown",
   "metadata": {},
   "source": [
    "## Tweets extraction "
   ]
  },
  {
   "cell_type": "code",
   "execution_count": null,
   "metadata": {},
   "outputs": [],
   "source": [
    "!pip install tweepy datetime"
   ]
  },
  {
   "cell_type": "markdown",
   "metadata": {},
   "source": [
    "## Play"
   ]
  },
  {
   "cell_type": "code",
   "execution_count": null,
   "metadata": {},
   "outputs": [],
   "source": [
    "#!python get_tweets.py"
   ]
  },
  {
   "cell_type": "markdown",
   "metadata": {},
   "source": [
    "## JSON structure"
   ]
  },
  {
   "cell_type": "code",
   "execution_count": null,
   "metadata": {},
   "outputs": [],
   "source": [
    "import json"
   ]
  },
  {
   "cell_type": "code",
   "execution_count": null,
   "metadata": {},
   "outputs": [],
   "source": [
    "# open file\n",
    "with open(\"collected_tweets_2020-11-20-16-40-37.txt\",'r') as file:\n",
    "    tweets = file.readlines()"
   ]
  },
  {
   "cell_type": "code",
   "execution_count": null,
   "metadata": {},
   "outputs": [],
   "source": [
    "with open('tweet.json', 'w') as f:\n",
    "    json.dump(\n",
    "        json.loads(json.loads(tweets[0])), f\n",
    "    )"
   ]
  },
  {
   "cell_type": "code",
   "execution_count": null,
   "metadata": {},
   "outputs": [],
   "source": [
    "json.loads(json.loads(tweets[0]))\n"
   ]
  },
  {
   "cell_type": "code",
   "execution_count": null,
   "metadata": {},
   "outputs": [],
   "source": [
    "parsed_tweets = [json.loads(json.loads(i)) for i in tweets]"
   ]
  },
  {
   "cell_type": "code",
   "execution_count": null,
   "metadata": {},
   "outputs": [],
   "source": [
    "#number of coleted tweets\n",
    "\n",
    "len(parsed_tweets)"
   ]
  },
  {
   "cell_type": "markdown",
   "metadata": {},
   "source": [
    "## Acessing JSON keys"
   ]
  },
  {
   "cell_type": "code",
   "execution_count": null,
   "metadata": {},
   "outputs": [],
   "source": [
    "firsttweet = parsed_tweets[0]"
   ]
  },
  {
   "cell_type": "code",
   "execution_count": null,
   "metadata": {},
   "outputs": [],
   "source": [
    "## tweet message\n",
    "## first level key\n",
    "firsttweet['text']"
   ]
  },
  {
   "cell_type": "code",
   "execution_count": null,
   "metadata": {},
   "outputs": [],
   "source": [
    "## user key\n",
    "firsttweet['user']['screen_name']"
   ]
  },
  {
   "cell_type": "code",
   "execution_count": null,
   "metadata": {},
   "outputs": [],
   "source": [
    "## info of original tweet\n",
    "firsttweet['retweeted_status']['created_at']"
   ]
  },
  {
   "cell_type": "code",
   "execution_count": null,
   "metadata": {},
   "outputs": [],
   "source": [
    "## first name user of retweet\n",
    "firsttweet['retweeted_status']['entities']['user_mentions']#[0]['name']"
   ]
  },
  {
   "cell_type": "markdown",
   "metadata": {},
   "source": [
    "### Transform tweets in relational structure"
   ]
  },
  {
   "cell_type": "code",
   "execution_count": null,
   "metadata": {},
   "outputs": [],
   "source": [
    "import pandas as pd"
   ]
  },
  {
   "cell_type": "code",
   "execution_count": null,
   "metadata": {},
   "outputs": [],
   "source": [
    "df = pd.DataFrame(firsttweet).reset_index(drop=True).iloc[:1]\n",
    "df"
   ]
  },
  {
   "cell_type": "code",
   "execution_count": null,
   "metadata": {},
   "outputs": [],
   "source": [
    "df.columns"
   ]
  },
  {
   "cell_type": "code",
   "execution_count": null,
   "metadata": {},
   "outputs": [],
   "source": [
    "df.drop(columns = ['quote_count', 'reply_count', 'retweet_count',\n",
    "       'favorite_count', 'favorited', 'retweeted', 'user', 'entities',\n",
    "                  'retweeted_status',\n",
    "                  ], inplace = True)"
   ]
  },
  {
   "cell_type": "code",
   "execution_count": null,
   "metadata": {},
   "outputs": [],
   "source": [
    "df['user_id'] = firsttweet['user']['id']\n",
    "df['user_id_str'] = firsttweet['user']['id_str']\n",
    "df['user_screen_name'] = firsttweet['user']['screen_name']\n",
    "df['user_location'] = firsttweet['user']['location']\n",
    "df['user_description'] = firsttweet['user']['description']\n",
    "df['user_protected'] = firsttweet['user']['protected']\n",
    "df['user_verified'] = firsttweet['user']['verified']\n",
    "df['user_followers_count'] = firsttweet['user']['followers_count']\n",
    "df['user_friends_count'] = firsttweet['user']['friends_count']\n",
    "df['user_created_at'] = firsttweet['user']['created_at']"
   ]
  },
  {
   "cell_type": "code",
   "execution_count": null,
   "metadata": {},
   "outputs": [],
   "source": [
    "df"
   ]
  },
  {
   "cell_type": "code",
   "execution_count": null,
   "metadata": {},
   "outputs": [],
   "source": [
    "user_mentions = []\n",
    "\n",
    "for i in range(len(firsttweet['entities']['user_mentions'])):\n",
    "    dict1 = firsttweet['entities']['user_mentions'][i].copy()\n",
    "    dict1.pop('indices', None)\n",
    "    df2 = pd.DataFrame(dict1, index= [0])\n",
    "    df2 = df2.rename(columns = {\n",
    "        'screen_name': 'entities_screen_name',\n",
    "        'name': 'entities_name',\n",
    "        'id': 'entities_id',\n",
    "        'id_str': 'entities_id_str'\n",
    "    })\n",
    "    user_mentions.append(df2)"
   ]
  },
  {
   "cell_type": "code",
   "execution_count": null,
   "metadata": {},
   "outputs": [],
   "source": [
    "user_mentions[0]"
   ]
  },
  {
   "cell_type": "code",
   "execution_count": null,
   "metadata": {},
   "outputs": [],
   "source": [
    "pd.concat(user_mentions, ignore_index = True)"
   ]
  },
  {
   "cell_type": "code",
   "execution_count": null,
   "metadata": {},
   "outputs": [],
   "source": [
    "dfs = []\n",
    "for i in user_mentions:\n",
    "    dfs.append(\n",
    "        pd.concat([df.copy(), i], axis=1)\n",
    "    )"
   ]
  },
  {
   "cell_type": "code",
   "execution_count": null,
   "metadata": {},
   "outputs": [],
   "source": [
    "dfs[0]"
   ]
  },
  {
   "cell_type": "code",
   "execution_count": null,
   "metadata": {},
   "outputs": [],
   "source": [
    "pd.concat(dfs, ignore_index=True)"
   ]
  },
  {
   "cell_type": "markdown",
   "metadata": {},
   "source": [
    "### Creating funtion to all tweets based in development done before"
   ]
  },
  {
   "cell_type": "code",
   "execution_count": null,
   "metadata": {},
   "outputs": [],
   "source": [
    "def tweet_to_df(tweet):\n",
    "    try:\n",
    "        df = pd.DataFrame(tweet).reset_index(drop=True).iloc[:1]\n",
    "        df.drop(columns = ['quote_count', 'reply_count', 'retweet_count',\n",
    "           'favorite_count', 'favorited', 'retweeted', 'user', 'entities',\n",
    "                      'retweeted_status',\n",
    "                      ], inplace = True)\n",
    "        df['user_id'] = tweet['user']['id']\n",
    "        df['user_id_str'] = tweet['user']['id_str']\n",
    "        df['user_screen_name'] = tweet['user']['screen_name']\n",
    "        df['user_location'] = tweet['user']['location']\n",
    "        df['user_description'] = tweet['user']['description']\n",
    "        df['user_protected'] = tweet['user']['protected']\n",
    "        df['user_verified'] = tweet['user']['verified']\n",
    "        df['user_followers_count'] = tweet['user']['followers_count']\n",
    "        df['user_friends_count'] = tweet['user']['friends_count']\n",
    "        df['user_created_at'] = tweet['user']['created_at']\n",
    "\n",
    "        user_mentions = []\n",
    "\n",
    "        for i in range(len(tweet['entities']['user_mentions'])):\n",
    "            dict1 = tweet['entities']['user_mentions'][i].copy()\n",
    "            dict1.pop('indices', None)\n",
    "            df2 = pd.DataFrame(dict1, index= [0])\n",
    "            df2 = df2.rename(columns = {\n",
    "                'screen_name': 'entities_screen_name',\n",
    "                'name': 'entities_name',\n",
    "                'id': 'entities_id',\n",
    "                'id_str': 'entities_id_str'\n",
    "            })\n",
    "            user_mentions.append(df2)\n",
    "\n",
    "        dfs = []\n",
    "        for i in user_mentions:\n",
    "            dfs.append(\n",
    "                pd.concat([df.copy(), i], axis=1)\n",
    "            )\n",
    "        df_final = pd.concat(dfs, ignore_index=True)\n",
    "    except:\n",
    "        return None\n",
    "    \n",
    "    return df_final"
   ]
  },
  {
   "cell_type": "code",
   "execution_count": null,
   "metadata": {},
   "outputs": [],
   "source": [
    "tweet_to_df(parsed_tweets[100])"
   ]
  },
  {
   "cell_type": "code",
   "execution_count": null,
   "metadata": {},
   "outputs": [],
   "source": [
    "%%time\n",
    "# iteration to all tweets\n",
    "\n",
    "fullparsed = [tweet_to_df(tweet) for tweet in parsed_tweets]"
   ]
  },
  {
   "cell_type": "code",
   "execution_count": null,
   "metadata": {},
   "outputs": [],
   "source": [
    "# remove empty positions from list\n",
    "\n",
    "fullparsed = [i for i in fullparsed if i is not None]\n",
    "\n",
    "len(fullparsed)"
   ]
  },
  {
   "cell_type": "code",
   "execution_count": null,
   "metadata": {},
   "outputs": [],
   "source": [
    "treated_df = pd.concat(fullparsed, ignore_index = True, sort=True)"
   ]
  },
  {
   "cell_type": "code",
   "execution_count": null,
   "metadata": {},
   "outputs": [],
   "source": [
    "treated_df"
   ]
  },
  {
   "cell_type": "markdown",
   "metadata": {},
   "source": [
    "### sql server ingestion"
   ]
  },
  {
   "cell_type": "code",
   "execution_count": null,
   "metadata": {},
   "outputs": [],
   "source": [
    "import pyodbc\n",
    "import sqlalchemy"
   ]
  },
  {
   "cell_type": "code",
   "execution_count": null,
   "metadata": {},
   "outputs": [],
   "source": [
    "engine = sqlalchemy.create_engine('mssql+pyodbc://@localhost/twitter?trusted_connection=yes&driver=ODBC+Driver+17+for+SQL+Server')"
   ]
  },
  {
   "cell_type": "code",
   "execution_count": null,
   "metadata": {},
   "outputs": [],
   "source": [
    "treated_df.to_sql(\"tweets\", con=engine, index=False,if_exists=\"append\")"
   ]
  },
  {
   "cell_type": "code",
   "execution_count": null,
   "metadata": {},
   "outputs": [],
   "source": []
  }
 ],
 "metadata": {
  "kernelspec": {
   "display_name": "Python 3",
   "language": "python",
   "name": "python3"
  },
  "language_info": {
   "codemirror_mode": {
    "name": "ipython",
    "version": 3
   },
   "file_extension": ".py",
   "mimetype": "text/x-python",
   "name": "python",
   "nbconvert_exporter": "python",
   "pygments_lexer": "ipython3",
   "version": "3.7.4"
  }
 },
 "nbformat": 4,
 "nbformat_minor": 4
}
